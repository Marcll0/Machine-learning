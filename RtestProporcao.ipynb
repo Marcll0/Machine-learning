{
 "cells": [
  {
   "cell_type": "markdown",
   "id": "234806cf-a6b4-49ac-811c-19a4716b0938",
   "metadata": {
    "tags": []
   },
   "source": [
    "# Teste Binomial"
   ]
  },
  {
   "cell_type": "markdown",
   "id": "b423d20c-30dc-48d1-8cce-c26098560128",
   "metadata": {},
   "source": [
    "#### 1) Um industria textil afirma que seu processo de fabricação produz 95% de produtos dentro das especificações. Deseja-se averiguar se este processo ainda está sob controle. Uma amostra de 20 produtos foi analisada e foram constatadas 14 produtos dentro das especificações. Ao nível de 5% de significância, podemos afirmar que realmente o processo produz 95% de produtos dentro das especificações?"
   ]
  },
  {
   "cell_type": "markdown",
   "id": "a4713ffe-7f0b-4fff-8608-76f6e3847a6b",
   "metadata": {},
   "source": [
    "#### H0 : p = 0,95\n",
    "#### H1 : p ≠ 0,95"
   ]
  },
  {
   "cell_type": "code",
   "execution_count": 28,
   "id": "df937aaf-8d31-4699-b743-ecc4a9fc7137",
   "metadata": {},
   "outputs": [
    {
     "data": {
      "text/plain": [
       "\n",
       "\tExact binomial test\n",
       "\n",
       "data:  14 and 20\n",
       "number of successes = 14, number of trials = 20, p-value = 0.0003293\n",
       "alternative hypothesis: true probability of success is not equal to 0.95\n",
       "95 percent confidence interval:\n",
       " 0.4572108 0.8810684\n",
       "sample estimates:\n",
       "probability of success \n",
       "                   0.7 \n"
      ]
     },
     "metadata": {},
     "output_type": "display_data"
    }
   ],
   "source": [
    "binom.test(14, 20, p = 0.95, alternative = c(\"two.sided\"),conf.level = 0.95)"
   ]
  },
  {
   "cell_type": "markdown",
   "id": "a08572df-17c4-4ee2-86db-45eedf897149",
   "metadata": {},
   "source": [
    "#### há evidências suficientes para rejeitarmos a hipótese nula, pois p_valor <= 0.05"
   ]
  },
  {
   "cell_type": "markdown",
   "id": "26f0e0a7-b310-4355-94a0-c9ba85529479",
   "metadata": {},
   "source": [
    "#### 2) Estima-se que cerca de 40% das mulheres que são submetidas à cirurgia do câncer de mama têm algum tipo de efeito após a cirúgia. Um novo método de cirurgia foi realizado em 18 pacientes e 4 tiveram algum efeito. Ao nível de 5% de significância, podemos afirmar que o novo método é eficiente na redução dos efeitos?"
   ]
  },
  {
   "cell_type": "markdown",
   "id": "c10f7709-8128-4741-9adc-110d3817510d",
   "metadata": {},
   "source": [
    "#### H0 : p = 0,40 \n",
    "#### H1 : p < 0,40"
   ]
  },
  {
   "cell_type": "code",
   "execution_count": 29,
   "id": "a3f21074-9144-4a3d-88ce-6aa00c4a03ff",
   "metadata": {},
   "outputs": [
    {
     "data": {
      "text/plain": [
       "\n",
       "\tExact binomial test\n",
       "\n",
       "data:  4 and 18\n",
       "number of successes = 4, number of trials = 18, p-value = 0.09417\n",
       "alternative hypothesis: true probability of success is less than 0.4\n",
       "95 percent confidence interval:\n",
       " 0.0000000 0.4388828\n",
       "sample estimates:\n",
       "probability of success \n",
       "             0.2222222 \n"
      ]
     },
     "metadata": {},
     "output_type": "display_data"
    }
   ],
   "source": [
    "binom.test(4, 18, p = 0.40, alternative = c(\"less\"),conf.level = 0.95)"
   ]
  },
  {
   "cell_type": "markdown",
   "id": "b2f58cfd-3300-460f-9911-75c1968e05e0",
   "metadata": {},
   "source": [
    "#### não há evidências suficientes para rejeitarmos a hipótese nula, pois p_valor >= 0.05"
   ]
  },
  {
   "cell_type": "markdown",
   "id": "8f5d2b75-a248-474e-94b9-8639f0ddcb8e",
   "metadata": {},
   "source": [
    "# Teste Z para proporção"
   ]
  },
  {
   "cell_type": "markdown",
   "id": "c7595108-cf44-4706-82d0-03d157cdc219",
   "metadata": {},
   "source": [
    "#### Quando a amostra é considerada grande pode-se utilizar a aproximação da Binomial pela distribuição Normal através do Teorema Central do Limite, logo o número de sucessos:\n",
    "\n",
    "#### Y ∼ Normal (np, np(1−p))"
   ]
  },
  {
   "cell_type": "markdown",
   "id": "44a78d17-c7e5-4579-824d-fbe96c8c5ce8",
   "metadata": {},
   "source": [
    "#### Um industria textil afirma que seu processo de fabricação produz 95% de produtos dentro das especificações. Deseja-se averiguar se este processo ainda está sob controle. Uma amostra de 150 produtos foi analisada e foram constatadas 130 produtos dentro das especificações. Ao nível de 5% de significância, podemos afirmar que realmente o processo produz 95% de produtos dentro das especificações?\n",
    "\n",
    "#### H0 : p = 0,95\n",
    "\n",
    "#### H1 : p ≠ 0,95"
   ]
  },
  {
   "cell_type": "code",
   "execution_count": 30,
   "id": "81812f11-9886-4b9a-8848-b68eb883cc40",
   "metadata": {},
   "outputs": [
    {
     "data": {
      "text/plain": [
       "\n",
       "\t1-sample proportions test with continuity correction\n",
       "\n",
       "data:  130 out of 150, null probability 0.95\n",
       "X-squared = 20.211, df = 1, p-value = 6.937e-06\n",
       "alternative hypothesis: true p is not equal to 0.95\n",
       "95 percent confidence interval:\n",
       " 0.7992288 0.9147007\n",
       "sample estimates:\n",
       "        p \n",
       "0.8666667 \n"
      ]
     },
     "metadata": {},
     "output_type": "display_data"
    }
   ],
   "source": [
    "#prop.test(y,n,p,coef.level, alt=)\n",
    "\n",
    "prop.test(130,150,0.95, conf.level = 0.95, correct = TRUE, alt=\"two.sided\")"
   ]
  },
  {
   "cell_type": "markdown",
   "id": "2475b765-e3e9-4d04-9897-84ef0104482f",
   "metadata": {},
   "source": [
    "#### há evidências suficientes para rejeitarmos a hipótese nula, pois p_valor <= 0.05"
   ]
  },
  {
   "cell_type": "markdown",
   "id": "a975df1b-a8f9-49f9-a01f-20d973cc9745",
   "metadata": {},
   "source": [
    "#### Estima-se que cerca de 40% das mulheres que são submetidas à cirurgia do câncer de mama têm algum tipo de efeito após a cirúgia. Um novo método de cirurgia foi realizado em 60 pacientes e 15 tiveram algum efeito. Ao nível de 5% de significância, podemos afirmar que o novo método é eficiente na redução dos efeitos?\n",
    "\n",
    "#### H0 : p = 0,40\n",
    "\n",
    "#### H1 : p < 0,40"
   ]
  },
  {
   "cell_type": "code",
   "execution_count": 31,
   "id": "6e0d4642-0cd7-4384-82e8-4a623c472994",
   "metadata": {},
   "outputs": [
    {
     "data": {
      "text/plain": [
       "\n",
       "\t1-sample proportions test with continuity correction\n",
       "\n",
       "data:  15 out of 60, null probability 0.4\n",
       "X-squared = 5.0174, df = 1, p-value = 0.01255\n",
       "alternative hypothesis: true p is less than 0.4\n",
       "95 percent confidence interval:\n",
       " 0.0000000 0.3602784\n",
       "sample estimates:\n",
       "   p \n",
       "0.25 \n"
      ]
     },
     "metadata": {},
     "output_type": "display_data"
    }
   ],
   "source": [
    "#prop.test(y,n,p,coef.level, alt=)\n",
    "\n",
    "prop.test(15,60,0.40,conf.level = 0.95,  correct = TRUE, alt=\"less\")"
   ]
  },
  {
   "cell_type": "markdown",
   "id": "48cb56c2-d51a-4b10-a451-a23def853dce",
   "metadata": {},
   "source": [
    "#### há evidências suficientes para rejeitarmos a hipótese nula, pois p_valor <= 0.05"
   ]
  }
 ],
 "metadata": {
  "kernelspec": {
   "display_name": "R - SparkR",
   "language": "R",
   "name": "sparkr"
  },
  "language_info": {
   "codemirror_mode": "r",
   "file_extension": ".r",
   "mimetype": "text/x-r-source",
   "name": "R",
   "pygments_lexer": "r",
   "version": "4.1.3"
  }
 },
 "nbformat": 4,
 "nbformat_minor": 5
}
