{
 "cells": [
  {
   "cell_type": "markdown",
   "id": "234806cf-a6b4-49ac-811c-19a4716b0938",
   "metadata": {},
   "source": [
    "# Teste Binomial"
   ]
  },
  {
   "cell_type": "raw",
   "id": "692a0061-4380-4277-aad7-3620d7f316ad",
   "metadata": {},
   "source": [
    "1) Um industria textil afirma que seu processo de fabricação produz 95% de produtos dentro das especificações. Deseja-se averiguar se este processo ainda está sob controle. Uma amostra de 20 produtos foi analisada e foram constatadas 14 produtos dentro das especificações. Ao nível de 5% de significância, podemos afirmar que realmente o processo produz 95% de produtos dentro das especificações?"
   ]
  },
  {
   "cell_type": "raw",
   "id": "7b6d5a7f-adc4-4923-b343-de2c82283808",
   "metadata": {},
   "source": [
    "H0 : p = 0,95\n",
    "H1 : p ≠ 0,95"
   ]
  },
  {
   "cell_type": "code",
   "execution_count": 1,
   "id": "df937aaf-8d31-4699-b743-ecc4a9fc7137",
   "metadata": {},
   "outputs": [
    {
     "data": {
      "text/plain": [
       "\n",
       "\tExact binomial test\n",
       "\n",
       "data:  14 and 20\n",
       "number of successes = 14, number of trials = 20, p-value = 0.0003293\n",
       "alternative hypothesis: true probability of success is not equal to 0.95\n",
       "95 percent confidence interval:\n",
       " 0.4572108 0.8810684\n",
       "sample estimates:\n",
       "probability of success \n",
       "                   0.7 \n"
      ]
     },
     "metadata": {},
     "output_type": "display_data"
    }
   ],
   "source": [
    "binom.test(14, 20, p = 0.95, alternative = c(\"two.sided\"),conf.level = 0.95)"
   ]
  },
  {
   "cell_type": "raw",
   "id": "89e6fea7-474e-4d84-8214-d64ec9291b10",
   "metadata": {},
   "source": [
    "há evidências suficientes para rejeitarmos a hipótese nula, pois p_valor <= 0.05"
   ]
  },
  {
   "cell_type": "raw",
   "id": "b486a8b3-1d36-4159-a944-d22922c1b1c8",
   "metadata": {},
   "source": [
    "2) Estima-se que cerca de 40% das mulheres que são submetidas à cirurgia do câncer de mama têm algum tipo de efeito após a cirúgia. Um novo método de cirurgia foi realizado em 18 pacientes e 4 tiveram algum efeito. Ao nível de 5% de significância, podemos afirmar que o novo método é eficiente na redução dos efeitos?"
   ]
  },
  {
   "cell_type": "raw",
   "id": "cd58dc73-d8ea-41fc-a71a-a3931b9f71fd",
   "metadata": {},
   "source": [
    "H0 : p = 0,40\n",
    "H1 : p < 0,40"
   ]
  },
  {
   "cell_type": "code",
   "execution_count": 2,
   "id": "a3f21074-9144-4a3d-88ce-6aa00c4a03ff",
   "metadata": {},
   "outputs": [
    {
     "data": {
      "text/plain": [
       "\n",
       "\tExact binomial test\n",
       "\n",
       "data:  4 and 18\n",
       "number of successes = 4, number of trials = 18, p-value = 0.09417\n",
       "alternative hypothesis: true probability of success is less than 0.4\n",
       "95 percent confidence interval:\n",
       " 0.0000000 0.4388828\n",
       "sample estimates:\n",
       "probability of success \n",
       "             0.2222222 \n"
      ]
     },
     "metadata": {},
     "output_type": "display_data"
    }
   ],
   "source": [
    "binom.test(4, 18, p = 0.40, alternative = c(\"less\"),conf.level = 0.95)"
   ]
  },
  {
   "cell_type": "raw",
   "id": "93bda512-f896-4fe9-b9ae-c3638b9da83a",
   "metadata": {},
   "source": [
    "não há evidências suficientes para rejeitarmos a hipótese nula, pois p_valor >= 0.05"
   ]
  },
  {
   "cell_type": "markdown",
   "id": "8f5d2b75-a248-474e-94b9-8639f0ddcb8e",
   "metadata": {},
   "source": [
    "# Teste Z para proporção"
   ]
  },
  {
   "cell_type": "raw",
   "id": "f17ded90-c27b-4ea0-8645-ea495149670e",
   "metadata": {},
   "source": [
    "Quando a amostra é considerada grande pode-se utilizar a aproximação da Binomial pela distribuição Normal através do Teorema Central do Limite, logo o número de sucessos:\n",
    "\n",
    "Y ∼ Normal (np, np(1−p))"
   ]
  },
  {
   "cell_type": "raw",
   "id": "360a335f-2bd5-4093-853d-fdba85e95ada",
   "metadata": {},
   "source": [
    "Um industria textil afirma que seu processo de fabricação produz 95% de produtos dentro das especificações. Deseja-se averiguar se este processo ainda está sob controle. Uma amostra de 150 produtos foi analisada e foram constatadas 130 produtos dentro das especificações. Ao nível de 5% de significância, podemos afirmar que realmente o processo produz 95% de produtos dentro das especificações?\n",
    "\n",
    "H0 : p = 0,95\n",
    "H1 : p ≠ 0,95"
   ]
  },
  {
   "cell_type": "code",
   "execution_count": 3,
   "id": "81812f11-9886-4b9a-8848-b68eb883cc40",
   "metadata": {},
   "outputs": [
    {
     "data": {
      "text/plain": [
       "\n",
       "\t1-sample proportions test with continuity correction\n",
       "\n",
       "data:  130 out of 150, null probability 0.95\n",
       "X-squared = 20.211, df = 1, p-value = 6.937e-06\n",
       "alternative hypothesis: true p is not equal to 0.95\n",
       "95 percent confidence interval:\n",
       " 0.7992288 0.9147007\n",
       "sample estimates:\n",
       "        p \n",
       "0.8666667 \n"
      ]
     },
     "metadata": {},
     "output_type": "display_data"
    }
   ],
   "source": [
    "#prop.test(y,n,p,coef.level, alt=)\n",
    "\n",
    "prop.test(130,150,0.95, conf.level = 0.95, correct = TRUE, alt=\"two.sided\")"
   ]
  },
  {
   "cell_type": "raw",
   "id": "29e26af7-6d05-4431-b91a-8533bd2b52d2",
   "metadata": {},
   "source": [
    "há evidências suficientes para rejeitarmos a hipótese nula, pois p_valor <= 0.05"
   ]
  },
  {
   "cell_type": "code",
   "execution_count": null,
   "id": "9f7845cf-7fa9-4555-b297-79223f3de175",
   "metadata": {},
   "outputs": [],
   "source": []
  }
 ],
 "metadata": {
  "kernelspec": {
   "display_name": "R - SparkR",
   "language": "R",
   "name": "sparkr"
  },
  "language_info": {
   "codemirror_mode": "r",
   "file_extension": ".r",
   "mimetype": "text/x-r-source",
   "name": "R",
   "pygments_lexer": "r",
   "version": "4.1.3"
  }
 },
 "nbformat": 4,
 "nbformat_minor": 5
}
