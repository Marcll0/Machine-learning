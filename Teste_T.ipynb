{
  "nbformat": 4,
  "nbformat_minor": 0,
  "metadata": {
    "colab": {
      "provenance": []
    },
    "kernelspec": {
      "name": "ir",
      "display_name": "R"
    },
    "language_info": {
      "name": "R"
    }
  },
  "cells": [
    {
      "cell_type": "markdown",
      "source": [
        "**História**\n",
        "\n",
        "O test t de Student foi introduzido em 1908 por William Sealy Gosset, matemático e estatístico que trabalhava na cervejaria Guinness, em Dublin, na Irlanda. A Guinness considerava de grande ipmortância recrutar os melhores graduados de Oxford e Cambridge para os cargos de bioquímico e estatístico de testes de sua cerveja.\n",
        "\n",
        "Gosset desenvolveu o teste t como um modo para monitorar a qualidade da cerveja tipo stout. O grande diferencial desse teste é justamente o fato de poder ser aplicado quando o tamanho da amostra é pequeno. Isso permite que se façam inferências usando um menor número de elementos, reduzindo os custos da pesquisa de qualidade.\n",
        "\n",
        "A importancia dada ao trabalho estatístico na Guinnes era tamanha o uso de métodos estatísticos na fabricação da cerveja era considerado um segredo industrial. Assim, quando Gosset publicou o artigo sobre o teste t na revista acadêmica Biometrika em 1908, teve de usar um pseudônimo “Student” em seus trabalhos e por isso o teste t passou a ser conhecido como teste t de Student."
      ],
      "metadata": {
        "id": "3usgzBj1f-Hd"
      }
    },
    {
      "cell_type": "markdown",
      "source": [
        "**Pra que serve o teste t de Student?**\n",
        "\n",
        "O teste t de Studente (ou simplesmente teste t) compara duas médias e mostra se as diferenças entre essas médias são significativas. Em outras palavras, permite que você avalie se essas diferenças ocorreram por um mero por acaso ou não.\n",
        "\n",
        "A necessidade de determinar se duas médias de amostras são diferentes entre si é uma situação extremamente frequente em pesquisas científicas.\n",
        "\n",
        "Por exemplo se um grupo experimental difere de um grupo controle, se uma amostra difere da população, se um grupo difere antes de depois de um procedimento. Nessas diversas situações, um método bastante comum é a comparação das médias da medida de interesse.\n",
        "\n",
        "Por exemplo, a média de peso de dois grupos submetidos a diferentes dietas.\n",
        "\n",
        "Entretanto, a simples percepção da diferença não é suficiente. Afinal de contas, é possível que a diferença encontrada seja devida ao mero acaso e não à dieta ou à intervenção em estudo. Assim, é necessário algo mais do que simplesmente verificar que houve uma diferença, é preciso analisar se essa diferença é estatisticamente significativa. Em outras palavras, é preciso uma estimativa do quão provável essa diferença poderia ser devida ao acaso. O test t serve justamente para isso, para estimar se a diferença das médias de dois conjuntos de dados é ou não estatisticamente significativa."
      ],
      "metadata": {
        "id": "Ym4odRvLgIVN"
      }
    },
    {
      "cell_type": "markdown",
      "source": [
        "**Como interpretar o resultado do teste t**\n",
        "\n",
        "Como todo teste estatístico, a teste t também tem como produto a medida do valor de p. Ou seja, no final das contas, teremos calculado a probabilidade da diferença encontrada (entre as médias) terem sido por acaso. Se esse valor for menor que 5% ( p < 0.05), a tradição científica é de rejeitarmos a hipótese de que as diferenças sejam por acaso (rejeitamos a hipótese nula) e alegamos termos encontrado uma diferença estatísticamente significativa."
      ],
      "metadata": {
        "id": "1fkBl9YYgOK1"
      }
    },
    {
      "cell_type": "markdown",
      "source": [
        "**Os vários tipos de teste t**\n",
        "\n",
        "Existem 3 tipos comuns de teste t:\n",
        "\n",
        "1.   teste t para duas amostras independentes (ou não pareadas)\n",
        "2.   teste t para duas amostras dependentes (ou pareadas)\n",
        "3.   teste t para uma amostra\n",
        "\n",
        "Esses testes servem para:\n",
        "\n",
        "1. Comparar as médias de duas amostras independentes (teste-t de para duas amostras independentes)\n",
        "2. Comparar as médias de duas amostras pareadas - mesmos sujeitos em diferentes momentos de tempo (teste-t pareado)\n",
        "3. Comparar a média de uma amostra com a média de uma população (teste de de uma amostra)\n"
      ],
      "metadata": {
        "id": "WF4oVERigSmZ"
      }
    },
    {
      "cell_type": "markdown",
      "source": [
        "## **Realizando o test t padrão do R: teste t para amostras independentes**"
      ],
      "metadata": {
        "id": "qu_oaAA3gxMu"
      }
    },
    {
      "cell_type": "markdown",
      "source": [
        "O R tem uma função muito simples de usar para realizar o teste t: t.test().\n",
        "\n",
        "Para usar essa função basta incluir como argumentos os valores obtidos de cada grupo da pesquisa e o próprio essa função do R já calcula a média de cada grupo e faz a comparação estatística.\n",
        "\n",
        "Veja o exemplo a seguir, no qual existem dois grupos diferentes de pacientes (controle e experimental), com os valores de uma medida fictícia"
      ],
      "metadata": {
        "id": "9tC8KRa0g3_B"
      }
    },
    {
      "cell_type": "code",
      "source": [
        "controle     <- c(21, 28, 24, 23, 23, 19, 28, 20, 22, 20, 26, 26)\n",
        "experimental <- c(26, 27, 23, 25, 25, 29, 30, 31, 36, 23, 32, 22)"
      ],
      "metadata": {
        "id": "TUmC1X53g6pV"
      },
      "execution_count": 21,
      "outputs": []
    },
    {
      "cell_type": "code",
      "source": [
        "## Box-plot para visualização dos dados\n",
        "\n",
        "boxplot(controle,experimental,main=\"Box Plot das medidas em cada grupo\",\n",
        "xlab=\"Controle x Experimental\",\n",
        "col= c(\"cyan\",\"magenta \"),\n",
        "border=\"Black\")"
      ],
      "metadata": {
        "colab": {
          "base_uri": "https://localhost:8080/",
          "height": 437
        },
        "id": "EZrOSMkehBGi",
        "outputId": "9e713ca6-5ad7-4df4-fdef-2e5009a346e2"
      },
      "execution_count": 31,
      "outputs": [
        {
          "output_type": "display_data",
          "data": {
            "text/plain": [
              "Plot with title “Box Plot das medidas em cada grupo”"
            ],
            "image/png": "[encoded data removed]"
          },
          "metadata": {
            "image/png": {
              "width": 420,
              "height": 420
            }
          }
        }
      ]
    },
    {
      "cell_type": "markdown",
      "source": [
        "Para comparar a média de cada um desses dois grupos, usamos a função t.test()."
      ],
      "metadata": {
        "id": "X00zkfDxlrxV"
      }
    },
    {
      "cell_type": "code",
      "source": [
        "t.test(controle, experimental)\n",
        "# A função t. test() realiza o teste t de student para amostras independentes."
      ],
      "metadata": {
        "colab": {
          "base_uri": "https://localhost:8080/",
          "height": 208
        },
        "id": "4DbySa96ls-M",
        "outputId": "103b9f45-c6bf-41ba-9e45-b2ea86371593"
      },
      "execution_count": 32,
      "outputs": [
        {
          "output_type": "display_data",
          "data": {
            "text/plain": [
              "\n",
              "\tWelch Two Sample t-test\n",
              "\n",
              "data:  controle and experimental\n",
              "t = -2.6837, df = 20.163, p-value = 0.01421\n",
              "alternative hypothesis: true difference in means is not equal to 0\n",
              "95 percent confidence interval:\n",
              " -7.2555305 -0.9111362\n",
              "sample estimates:\n",
              "mean of x mean of y \n",
              " 23.33333  27.41667 \n"
            ]
          },
          "metadata": {}
        }
      ]
    },
    {
      "cell_type": "markdown",
      "source": [
        "**Interpretando o resultado do teste-t para duas amostras independentes**\n",
        "\n",
        "A primeira linha do resultado do teste informra o nome do teste que foi feito:\n",
        "Welch Two Sample t-test (teste-t de Welch de duas amostras).\n",
        "\n",
        "O teste-t de Welch é uma adaptação do teste t de Student, que é mais confiável quando as duas amostras têm variâncias desiguais e tamanhos de amostra desiguais. O teste-t padrão do R utiliza essa variação do teste-t.\n",
        "\n",
        "Era uma prática usual testar se as variâncias das amostras eram semelhantes ou não antes de aplicar o teste-t. Atualmente não se se usa mais mais fazer esse teste e se usa sempre a variação de Welch do teste-t. Por isso o padrão do R é que o teste-t já seja feito dessa forma.\n",
        "\n",
        "A segunda linha informa de onde foram extraídos os dados para o teste:\n",
        "da variáveis controle and experimental\n",
        "\n",
        "A terceira linha traz várias informações:\n",
        "o valor da estatística t: t = -2.68372\n",
        "os graus de liberdade da curva de distribuição t: df = 20.163\n",
        "o valor de p: p-value = 0.01421\n",
        "\n",
        "A quarta linha informa qual a hipótese alternativa do teste: true difference in means is not equal to 0\n",
        "A hipótese alternativa é que as médias da amostras são diferentes.\n",
        "Podemos então inferir que a hipótese nula do teste é que as médias das amostra são iguais\n",
        "Por essa linha podemos ver que o teste realizado foi um teste bicaudal (que é o padrão do R)\n",
        "\n",
        "A quinta e a sexta linha informam o intervalo de confiança do teste.\n",
        "\n",
        "A sétima, oitava e nona linha informam os dados da amostra: a média de cada amostra: 23.33333 27.41667\n",
        "\n",
        "O teste t no R tem como padrão admitir que os grupos não sejam pareados, isto é, que os grupos sejam independentes. Além disso, o teste t assume que o nível de significância seja de 0.05 (α\n",
        "= 5%) e que teste seja realizado de forma bicaudal. Todas esses parâmetros podem ser modificados quando necessário."
      ],
      "metadata": {
        "id": "3I2Kxn2Cl29h"
      }
    },
    {
      "cell_type": "markdown",
      "source": [
        "**Argumentos do test t no R**\n",
        "\n",
        "O teste-t usa valores default em vários de seus argumentos que são importantes serem conhecidos:\n",
        "\n",
        "paired      = FALSE -> por default o teste admite que os grupos não sejam pareados\n",
        "\n",
        "conf.level  = 0.95 -> por default o teste admite um nível de confiança de 95% (ou α\n",
        "= 5%)\n",
        "\n",
        "alternative = two.sided - > por default o teste é bicaudal, podemos escolher também “greater” ou “less”\n",
        "\n",
        "Quando desejarmos realizar um teste t pareado, basta alterar o argumento paired para TRUE: paired = TRUE."
      ],
      "metadata": {
        "id": "X01Yso7PmF2s"
      }
    },
    {
      "cell_type": "markdown",
      "source": [
        "## **Teste t pareado**"
      ],
      "metadata": {
        "id": "clWYiY1RmKL7"
      }
    },
    {
      "cell_type": "markdown",
      "source": [
        "Veja o exemplo a seguir, no qual existem um grupo de pacientes que teve alguma medida realizada antes da intervenção e outra depois da intervenção. Por exemplo, o peso de atletas antes e depois da maratona, ou a medida da glicemia antes e depois de um tratamento. O importante aqui é entendermos que as duas medidas são realizadas num mesmo grupo de pessoas, antes e depois de uma intervenção.\n",
        "\n",
        "Vamos usar os mesmo dados de antes, modificando apenas o nome da variável para que fique mais claro que estamos agora num mesmo grupo de pessoas, cujas medidas foram tomadas antes e depois.\n",
        "\n",
        "O teste t para amostras indepententes não exige que os grupos tenham o mesmo tamanho, mas observe que o teste t pareado exige que existam exatamente o mesmo número de medidas antes e depois."
      ],
      "metadata": {
        "id": "Ox3Kn7LtmmHj"
      }
    },
    {
      "cell_type": "code",
      "source": [
        "antes  <- c(21, 28, 24, 23, 23, 19, 28, 20, 22, 20, 26, 26)\n",
        "depois <- c(26, 27, 23, 25, 25, 29, 30, 31, 36, 23, 32, 22)"
      ],
      "metadata": {
        "id": "JSvurMcemTG6"
      },
      "execution_count": 33,
      "outputs": []
    },
    {
      "cell_type": "code",
      "source": [
        "## Box-plot para visualização dos dados\n",
        "\n",
        "boxplot(antes,depois,main=\"Box Plot das medidas em cada grupo\",\n",
        "xlab=\"Antes x Depois\",\n",
        "col= c(\"cyan\",\"magenta \"),\n",
        "border=\"Black\")"
      ],
      "metadata": {
        "colab": {
          "base_uri": "https://localhost:8080/",
          "height": 437
        },
        "id": "gAlMkXSyl7Gx",
        "outputId": "256fe987-ac97-433a-803d-c2a02be86973"
      },
      "execution_count": 34,
      "outputs": [
        {
          "output_type": "display_data",
          "data": {
            "text/plain": [
              "Plot with title “Box Plot das medidas em cada grupo”"
            ],
            "image/png": "[encoded data removed]"
          },
          "metadata": {
            "image/png": {
              "width": 420,
              "height": 420
            }
          }
        }
      ]
    },
    {
      "cell_type": "markdown",
      "source": [
        "Para usar o teste t pareado, iremos simplesmente alterar o argumento paired:"
      ],
      "metadata": {
        "id": "41ijYV-GnEEx"
      }
    },
    {
      "cell_type": "code",
      "source": [
        "t.test(antes, depois, paired = TRUE)"
      ],
      "metadata": {
        "colab": {
          "base_uri": "https://localhost:8080/",
          "height": 208
        },
        "id": "Rszgwch8f9w-",
        "outputId": "535f3854-be26-4b65-dc9c-16ffc44125f2"
      },
      "execution_count": 35,
      "outputs": [
        {
          "output_type": "display_data",
          "data": {
            "text/plain": [
              "\n",
              "\tPaired t-test\n",
              "\n",
              "data:  antes and depois\n",
              "t = -2.6353, df = 11, p-value = 0.02319\n",
              "alternative hypothesis: true mean difference is not equal to 0\n",
              "95 percent confidence interval:\n",
              " -7.493713 -0.672954\n",
              "sample estimates:\n",
              "mean difference \n",
              "      -4.083333 \n"
            ]
          },
          "metadata": {}
        }
      ]
    },
    {
      "cell_type": "markdown",
      "source": [
        "**Interpretando o resultado do teste-t pareado**\n",
        "\n",
        "A primeira linha do resultado do teste informra o nome do teste que foi feito:\n",
        "Paired t-test (teste t pareado).\n",
        "\n",
        "O restante do teste é interpretado da mesma forma que o teste t para amostras independentes."
      ],
      "metadata": {
        "id": "SD_DKr44nJ9Z"
      }
    },
    {
      "cell_type": "markdown",
      "source": [
        "## **O teste-t de Student para uma amostra**"
      ],
      "metadata": {
        "id": "Bm3xWbWrnMCA"
      }
    },
    {
      "cell_type": "markdown",
      "source": [
        "O teste-t de Student para uma amostra compara a medida média de um grupo com a média da população.\n",
        "\n",
        "Suponha que você queira saber se a altura das mulheres mineiras é maior que a média da população no brasileira. Conhecendo a média da população (suponha que a média da população seja 160cm), você reúne uma amostra aleatória de 25 mulheres de minas gerais e mensura as alturas dessas mulheres.\n",
        "\n",
        "A média da altura das mulheres mineiras de sua amostra foi de 165.952cm, enquanto que a média de altura da população é de 160cm. Ou seja, as mineiras de sua amostra tem uma altura média 5.952cm acima da média da população.\n",
        "\n",
        "A questão é, a média da altura das mineiras foi maior, mas será que essa diferença de altura é estatisticamente significativa? Um teste estatístico pretende tentar responder essa questão.\n",
        "\n",
        "O teste a ser usado para resolver essa questão é o teste-t de Student para uma amostra."
      ],
      "metadata": {
        "id": "F3sKNBhWnPrA"
      }
    },
    {
      "cell_type": "code",
      "source": [
        "# medidas da amostra de 25 mulheres de minas gerais (dados fictícios)\n",
        "altura <- c(152.0, 153.1, 154.6, 157.8,\n",
        "            158.8, 159.6, 161.1, 161.6,\n",
        "            162.7, 163.7, 164.1, 165.5,\n",
        "            165.8, 168.4, 168.4, 169.1,\n",
        "            169.1, 170.2, 172.4, 172.9,\n",
        "            173.1, 173.3, 175.6, 176.9,\n",
        "            179.0)"
      ],
      "metadata": {
        "id": "7qGrLCfynsBE"
      },
      "execution_count": 36,
      "outputs": []
    },
    {
      "cell_type": "code",
      "source": [
        "hist(altura,main=\"Altura das mulheres\",\n",
        "ylab = \"Qtd\",\n",
        "xlab=\"Altura\",\n",
        "col= \"cyan\")"
      ],
      "metadata": {
        "colab": {
          "base_uri": "https://localhost:8080/",
          "height": 437
        },
        "id": "ET3Y8381nzR_",
        "outputId": "9b634320-6a7e-4437-fd36-f1d8e91907a6"
      },
      "execution_count": 38,
      "outputs": [
        {
          "output_type": "display_data",
          "data": {
            "text/plain": [
              "Plot with title “Altura das mulheres”"
            ],
            "image/png": "[encoded data removed]"
          },
          "metadata": {
            "image/png": {
              "width": 420,
              "height": 420
            }
          }
        }
      ]
    },
    {
      "cell_type": "markdown",
      "source": [
        "Para fazer o teste usamos a função t.test() e incluímos como argumentos a variável com os dados altura e a média da população mu=160, com a qual desejamos fazer a comparação:"
      ],
      "metadata": {
        "id": "iTgsGiPgnwp3"
      }
    },
    {
      "cell_type": "code",
      "source": [
        "t.test(altura, mu= 160)"
      ],
      "metadata": {
        "colab": {
          "base_uri": "https://localhost:8080/",
          "height": 208
        },
        "id": "04VPnZxHoWxl",
        "outputId": "7e4ab820-d207-4ee2-d86f-79691e2e1369"
      },
      "execution_count": 39,
      "outputs": [
        {
          "output_type": "display_data",
          "data": {
            "text/plain": [
              "\n",
              "\tOne Sample t-test\n",
              "\n",
              "data:  altura\n",
              "t = 3.9881, df = 24, p-value = 0.000543\n",
              "alternative hypothesis: true mean is not equal to 160\n",
              "95 percent confidence interval:\n",
              " 162.8718 169.0322\n",
              "sample estimates:\n",
              "mean of x \n",
              "  165.952 \n"
            ]
          },
          "metadata": {}
        }
      ]
    },
    {
      "cell_type": "markdown",
      "source": [
        "**Interpretando o resultado do teste-t para uma amostra**\n",
        "\n",
        "A primeira linha do resultado do teste informra o nome do teste que foi feito:\n",
        "One Sample t-test (teste-t de uma amostra).\n",
        "\n",
        "A segunda linha informa de onde foram extraídos os dados para o teste:\n",
        "da variável altura que foi anteriormente criada.\n",
        "\n",
        "A terceira linha traz várias informações:\n",
        "o valor da estatística t: t = 3.9881\n",
        "os graus de liberdade da curva de distribuição t: df = 24 (lembrando: df = n-1 = 25 - 1)\n",
        "o valor de p: p-value = 0.000543\n",
        "\n",
        "A quarta linha informa qual a hipótese alternativa do teste: true mean is not equal to 160 Pois a hipótese alternativa é que a média da amostras é diferente de 160.\n",
        "Podemos então inferir que a hipótese nula do teste é que a média da amostra é IGUAL a 160.\n",
        "\n",
        "Por essa linha podemos ver que o teste realizado foi um teste bicaudal.\n",
        "\n",
        "A quinta e a sexta linha informam o intervalo de confiança do teste.\n",
        "\n",
        "A sétima, oitava e nona linha informam os dados da amostra: a média da amostra foi de 165.952cm."
      ],
      "metadata": {
        "id": "sjKQdxlSob-M"
      }
    },
    {
      "cell_type": "markdown",
      "source": [
        "## **A análise das notas de estatística entre homens e mulheres.**"
      ],
      "metadata": {
        "id": "7OxPBAilohbd"
      }
    },
    {
      "cell_type": "markdown",
      "source": [
        "Abaixo estão as notas da prova teórica de estatística de 2018 de homens e mulheres."
      ],
      "metadata": {
        "id": "VI4BXsECo5DU"
      }
    },
    {
      "cell_type": "code",
      "source": [
        "homens   <- c(15,9,7,13,10,11,14,8,12,5,10,10,6,6,5,13,12,5,12,6)\n",
        "mulheres <- c(13,11,11,10,11,11,15,14,10,9,13,11,9,9,12,9,12,9,15,13,9,15,11,13,11,11,12,11,11,11)"
      ],
      "metadata": {
        "id": "9ujvMTZVo-0U"
      },
      "execution_count": 40,
      "outputs": []
    },
    {
      "cell_type": "code",
      "source": [
        "mean(homens)\n",
        "mean(mulheres)"
      ],
      "metadata": {
        "colab": {
          "base_uri": "https://localhost:8080/",
          "height": 52
        },
        "id": "vWENQOIWpBMi",
        "outputId": "ecf51278-66e3-4f79-bb9d-a6965747b3cf"
      },
      "execution_count": 41,
      "outputs": [
        {
          "output_type": "display_data",
          "data": {
            "text/html": [
              "9.45"
            ],
            "text/markdown": "9.45",
            "text/latex": "9.45",
            "text/plain": [
              "[1] 9.45"
            ]
          },
          "metadata": {}
        },
        {
          "output_type": "display_data",
          "data": {
            "text/html": [
              "11.4"
            ],
            "text/markdown": "11.4",
            "text/latex": "11.4",
            "text/plain": [
              "[1] 11.4"
            ]
          },
          "metadata": {}
        }
      ]
    },
    {
      "cell_type": "markdown",
      "source": [
        "A média das notas das mulheres foi maior. A questão estatística é: foi um mero acaso?\n",
        "\n",
        "Um teste t serve para responder essa pergunta. Veja que como será usado um teste t independente, pois são dois grupos diferentes, não há problema no fato dos grupos terem tamanhos diferentes."
      ],
      "metadata": {
        "id": "lMiaGQ3rpIh6"
      }
    },
    {
      "cell_type": "code",
      "source": [
        "t.test(homens, mulheres)"
      ],
      "metadata": {
        "colab": {
          "base_uri": "https://localhost:8080/",
          "height": 208
        },
        "id": "tgteMLNUpJOK",
        "outputId": "73bd28c3-3eb3-4674-d1a4-95f68e89bb3e"
      },
      "execution_count": 42,
      "outputs": [
        {
          "output_type": "display_data",
          "data": {
            "text/plain": [
              "\n",
              "\tWelch Two Sample t-test\n",
              "\n",
              "data:  homens and mulheres\n",
              "t = -2.4265, df = 27.006, p-value = 0.0222\n",
              "alternative hypothesis: true difference in means is not equal to 0\n",
              "95 percent confidence interval:\n",
              " -3.5988712 -0.3011288\n",
              "sample estimates:\n",
              "mean of x mean of y \n",
              "     9.45     11.40 \n"
            ]
          },
          "metadata": {}
        }
      ]
    },
    {
      "cell_type": "markdown",
      "source": [
        "# **Analisando o resultado acima**\n",
        "\n",
        "É preciso verificar o valor de p no teste acima:\n",
        "\n",
        "p = 0.0222\n",
        "\n",
        "Um valor de p menor que 0.05 indica que a diferença é estatisticamente significativa.\n",
        "\n",
        "As mulheres tem uma média nas notas maiores que a dos homens e essa diferença é estatisticamente significativa.\n",
        "\n",
        "Ou seja, parece que as mulheres vão mesmo dominar o mundo\n",
        "\n"
      ],
      "metadata": {
        "id": "A2Z7UPNqpXzy"
      }
    }
  ]
}