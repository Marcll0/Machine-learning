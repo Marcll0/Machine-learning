{
  "nbformat": 4,
  "nbformat_minor": 0,
  "metadata": {
    "colab": {
      "provenance": [],
      "authorship_tag": "ABX9TyOrV9t+NfEu4iqxPiu1apoC",
      "include_colab_link": true
    },
    "kernelspec": {
      "name": "ir",
      "display_name": "R"
    },
    "language_info": {
      "name": "R"
    }
  },
  "cells": [
    {
      "cell_type": "markdown",
      "metadata": {
        "id": "view-in-github",
        "colab_type": "text"
      },
      "source": [
        "<a href=\"https://colab.research.google.com/github/Marcll0/R/blob/main/IntervalodeConfian%C3%A7a_T.ipynb\" target=\"_parent\"><img src=\"https://colab.research.google.com/assets/colab-badge.svg\" alt=\"Open In Colab\"/></a>"
      ]
    },
    {
      "cell_type": "code",
      "execution_count": 8,
      "metadata": {
        "colab": {
          "base_uri": "https://localhost:8080/",
          "height": 34
        },
        "id": "9DHns56h21FA",
        "outputId": "68b36080-f928-4f29-db92-d3d461cf2fd7"
      },
      "outputs": [
        {
          "output_type": "display_data",
          "data": {
            "text/html": [
              "<style>\n",
              ".list-inline {list-style: none; margin:0; padding: 0}\n",
              ".list-inline>li {display: inline-block}\n",
              ".list-inline>li:not(:last-child)::after {content: \"\\00b7\"; padding: 0 .5ex}\n",
              "</style>\n",
              "<ol class=list-inline><li>79.0640055349737</li><li>86.5559944650263</li></ol>\n"
            ],
            "text/markdown": "1. 79.0640055349737\n2. 86.5559944650263\n\n\n",
            "text/latex": "\\begin{enumerate*}\n\\item 79.0640055349737\n\\item 86.5559944650263\n\\end{enumerate*}\n",
            "text/plain": [
              "[1] 79.06401 86.55599"
            ]
          },
          "metadata": {}
        }
      ],
      "source": [
        "media = 82.81\n",
        "sd = 10.39\n",
        "n = 32\n",
        "var = sd^2\n",
        "alfa = 0.05\n",
        "\n",
        "ic = media + qt(c(alfa/2,1-alfa/2),df = n-1)*sqrt(var/n)\n",
        "ic"
      ]
    },
    {
      "cell_type": "code",
      "source": [],
      "metadata": {
        "id": "aBe5jGME3Jw7"
      },
      "execution_count": null,
      "outputs": []
    }
  ]
}